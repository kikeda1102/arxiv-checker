{
 "cells": [
  {
   "cell_type": "code",
   "execution_count": 26,
   "id": "652bdfc7-1291-456e-b628-1a5707ba61f0",
   "metadata": {},
   "outputs": [],
   "source": [
    "import arxiv\n",
    "import pandas as pd\n",
    "import datetime\n",
    "import numpy as np"
   ]
  },
  {
   "cell_type": "code",
   "execution_count": 54,
   "id": "0b52750e",
   "metadata": {},
   "outputs": [],
   "source": [
    "import functions"
   ]
  },
  {
   "cell_type": "code",
   "execution_count": 56,
   "id": "ccf5d056",
   "metadata": {},
   "outputs": [],
   "source": [
    "now = functions.now()\n",
    "    \n",
    "dateA_s, dateB_s = functions.recentDates(now=now, A=7, B=0) # A日前からB日前で検索  \n",
    "# get data\n",
    "df = functions.getdf(dateA_s=dateA_s, dateB_s=dateB_s, max_results=300)  "
   ]
  },
  {
   "cell_type": "code",
   "execution_count": 78,
   "id": "3fe5c5e3",
   "metadata": {},
   "outputs": [],
   "source": [
    "# search keywords\n",
    "kwds = [\n",
    "        'dispersion relation',\n",
    "        'distance conjecture',\n",
    "        'EFT',\n",
    "        'holographic QCD',\n",
    "        'landscape',\n",
    "        'Positivity',\n",
    "        'Regge',\n",
    "        'Swampland',\n",
    "        'Weak Gravity',\n",
    "] # 大文字小文字は区別せず検索される\n",
    "    \n",
    "# search\n",
    "df_hit = functions.search(df, kwds)\n",
    "\n",
    "# attach current date\n",
    "df_hit.insert(loc = 0, column= 'AcquisitionDate', value = functions.now().date())"
   ]
  },
  {
   "cell_type": "code",
   "execution_count": 83,
   "id": "ba740b0c",
   "metadata": {},
   "outputs": [],
   "source": [
    "df_hit2 = df_hit.reset_index(drop=True)"
   ]
  },
  {
   "cell_type": "code",
   "execution_count": 84,
   "id": "77a555bd",
   "metadata": {},
   "outputs": [
    {
     "data": {
      "text/html": [
       "<div>\n",
       "<style scoped>\n",
       "    .dataframe tbody tr th:only-of-type {\n",
       "        vertical-align: middle;\n",
       "    }\n",
       "\n",
       "    .dataframe tbody tr th {\n",
       "        vertical-align: top;\n",
       "    }\n",
       "\n",
       "    .dataframe thead th {\n",
       "        text-align: right;\n",
       "    }\n",
       "</style>\n",
       "<table border=\"1\" class=\"dataframe\">\n",
       "  <thead>\n",
       "    <tr style=\"text-align: right;\">\n",
       "      <th></th>\n",
       "      <th>AcquisitionDate</th>\n",
       "      <th>link</th>\n",
       "      <th>title</th>\n",
       "      <th>publishedDate</th>\n",
       "      <th>authors</th>\n",
       "      <th>Key_dispersion relation</th>\n",
       "      <th>Key_distance conjecture</th>\n",
       "      <th>Key_EFT</th>\n",
       "      <th>Key_holographic QCD</th>\n",
       "      <th>Key_landscape</th>\n",
       "      <th>Key_Positivity</th>\n",
       "      <th>Key_Regge</th>\n",
       "      <th>Key_Swampland</th>\n",
       "      <th>Key_Weak Gravity</th>\n",
       "    </tr>\n",
       "  </thead>\n",
       "  <tbody>\n",
       "    <tr>\n",
       "      <th>0</th>\n",
       "      <td>2022-07-24</td>\n",
       "      <td>http://arxiv.org/abs/2207.10634v1</td>\n",
       "      <td>(Super)Universal Attractors and the de Sitter ...</td>\n",
       "      <td>2022-07-21 17:43:16+00:00</td>\n",
       "      <td>[Omer Guleryuz]</td>\n",
       "      <td>False</td>\n",
       "      <td>False</td>\n",
       "      <td>False</td>\n",
       "      <td>False</td>\n",
       "      <td>True</td>\n",
       "      <td>False</td>\n",
       "      <td>False</td>\n",
       "      <td>True</td>\n",
       "      <td>False</td>\n",
       "    </tr>\n",
       "    <tr>\n",
       "      <th>1</th>\n",
       "      <td>2022-07-24</td>\n",
       "      <td>http://arxiv.org/abs/2207.10088v1</td>\n",
       "      <td>QFitter -- A Quantum Fitting Framework Applied...</td>\n",
       "      <td>2022-07-20 18:00:00+00:00</td>\n",
       "      <td>[Juan Carlos Criado, Roman Kogler, Michael Spa...</td>\n",
       "      <td>False</td>\n",
       "      <td>False</td>\n",
       "      <td>True</td>\n",
       "      <td>False</td>\n",
       "      <td>False</td>\n",
       "      <td>False</td>\n",
       "      <td>False</td>\n",
       "      <td>False</td>\n",
       "      <td>False</td>\n",
       "    </tr>\n",
       "    <tr>\n",
       "      <th>2</th>\n",
       "      <td>2022-07-24</td>\n",
       "      <td>http://arxiv.org/abs/2207.09474v1</td>\n",
       "      <td>Conformal field theory for particle physicists</td>\n",
       "      <td>2022-07-19 18:00:04+00:00</td>\n",
       "      <td>[Marc Gillioz]</td>\n",
       "      <td>False</td>\n",
       "      <td>False</td>\n",
       "      <td>True</td>\n",
       "      <td>False</td>\n",
       "      <td>False</td>\n",
       "      <td>False</td>\n",
       "      <td>False</td>\n",
       "      <td>False</td>\n",
       "      <td>False</td>\n",
       "    </tr>\n",
       "    <tr>\n",
       "      <th>3</th>\n",
       "      <td>2022-07-24</td>\n",
       "      <td>http://arxiv.org/abs/2207.09449v1</td>\n",
       "      <td>Correlated Fractional Dirac Materials</td>\n",
       "      <td>2022-07-19 17:59:33+00:00</td>\n",
       "      <td>[Bitan Roy, Vladimir Juricic]</td>\n",
       "      <td>False</td>\n",
       "      <td>False</td>\n",
       "      <td>False</td>\n",
       "      <td>False</td>\n",
       "      <td>True</td>\n",
       "      <td>False</td>\n",
       "      <td>False</td>\n",
       "      <td>False</td>\n",
       "      <td>False</td>\n",
       "    </tr>\n",
       "    <tr>\n",
       "      <th>4</th>\n",
       "      <td>2022-07-24</td>\n",
       "      <td>http://arxiv.org/abs/2207.09448v1</td>\n",
       "      <td>Swampland Bounds on Dark Sectors</td>\n",
       "      <td>2022-07-19 17:59:30+00:00</td>\n",
       "      <td>[Miguel Montero, Julian B. Muñoz, Georges Obied]</td>\n",
       "      <td>False</td>\n",
       "      <td>False</td>\n",
       "      <td>False</td>\n",
       "      <td>False</td>\n",
       "      <td>False</td>\n",
       "      <td>False</td>\n",
       "      <td>False</td>\n",
       "      <td>True</td>\n",
       "      <td>False</td>\n",
       "    </tr>\n",
       "  </tbody>\n",
       "</table>\n",
       "</div>"
      ],
      "text/plain": [
       "  AcquisitionDate                               link  \\\n",
       "0      2022-07-24  http://arxiv.org/abs/2207.10634v1   \n",
       "1      2022-07-24  http://arxiv.org/abs/2207.10088v1   \n",
       "2      2022-07-24  http://arxiv.org/abs/2207.09474v1   \n",
       "3      2022-07-24  http://arxiv.org/abs/2207.09449v1   \n",
       "4      2022-07-24  http://arxiv.org/abs/2207.09448v1   \n",
       "\n",
       "                                               title  \\\n",
       "0  (Super)Universal Attractors and the de Sitter ...   \n",
       "1  QFitter -- A Quantum Fitting Framework Applied...   \n",
       "2     Conformal field theory for particle physicists   \n",
       "3              Correlated Fractional Dirac Materials   \n",
       "4                   Swampland Bounds on Dark Sectors   \n",
       "\n",
       "              publishedDate  \\\n",
       "0 2022-07-21 17:43:16+00:00   \n",
       "1 2022-07-20 18:00:00+00:00   \n",
       "2 2022-07-19 18:00:04+00:00   \n",
       "3 2022-07-19 17:59:33+00:00   \n",
       "4 2022-07-19 17:59:30+00:00   \n",
       "\n",
       "                                             authors  Key_dispersion relation  \\\n",
       "0                                    [Omer Guleryuz]                    False   \n",
       "1  [Juan Carlos Criado, Roman Kogler, Michael Spa...                    False   \n",
       "2                                     [Marc Gillioz]                    False   \n",
       "3                      [Bitan Roy, Vladimir Juricic]                    False   \n",
       "4   [Miguel Montero, Julian B. Muñoz, Georges Obied]                    False   \n",
       "\n",
       "   Key_distance conjecture  Key_EFT  Key_holographic QCD  Key_landscape  \\\n",
       "0                    False    False                False           True   \n",
       "1                    False     True                False          False   \n",
       "2                    False     True                False          False   \n",
       "3                    False    False                False           True   \n",
       "4                    False    False                False          False   \n",
       "\n",
       "   Key_Positivity  Key_Regge  Key_Swampland  Key_Weak Gravity  \n",
       "0           False      False           True             False  \n",
       "1           False      False          False             False  \n",
       "2           False      False          False             False  \n",
       "3           False      False          False             False  \n",
       "4           False      False           True             False  "
      ]
     },
     "execution_count": 84,
     "metadata": {},
     "output_type": "execute_result"
    }
   ],
   "source": [
    "df_hit2.head()"
   ]
  },
  {
   "cell_type": "code",
   "execution_count": 140,
   "id": "efe7e07d",
   "metadata": {},
   "outputs": [],
   "source": [
    "A = []\n",
    "for i in df_hit2['authors'][4]:\n",
    "    A.append(str(i))"
   ]
  },
  {
   "cell_type": "code",
   "execution_count": 141,
   "id": "581188d9",
   "metadata": {},
   "outputs": [
    {
     "data": {
      "text/plain": [
       "['Miguel Montero', 'Julian B. Muñoz', 'Georges Obied']"
      ]
     },
     "execution_count": 141,
     "metadata": {},
     "output_type": "execute_result"
    }
   ],
   "source": [
    "A"
   ]
  },
  {
   "cell_type": "code",
   "execution_count": 128,
   "id": "71b7d44b",
   "metadata": {},
   "outputs": [
    {
     "data": {
      "text/plain": [
       "[arxiv.Result.Author('Bitan Roy'), arxiv.Result.Author('Vladimir Juricic')]"
      ]
     },
     "execution_count": 128,
     "metadata": {},
     "output_type": "execute_result"
    }
   ],
   "source": [
    "A = df_hit2['authors'][3]\n",
    "A\n"
   ]
  },
  {
   "cell_type": "code",
   "execution_count": 129,
   "id": "c488ab00",
   "metadata": {},
   "outputs": [],
   "source": [
    "L = []\n",
    "for i in A:\n",
    "    L.append(str(i))"
   ]
  },
  {
   "cell_type": "code",
   "execution_count": 130,
   "id": "c6ef76c8",
   "metadata": {},
   "outputs": [
    {
     "data": {
      "text/plain": [
       "['Bitan Roy', 'Vladimir Juricic']"
      ]
     },
     "execution_count": 130,
     "metadata": {},
     "output_type": "execute_result"
    }
   ],
   "source": [
    "L"
   ]
  },
  {
   "cell_type": "code",
   "execution_count": 133,
   "id": "dd4c51ca",
   "metadata": {},
   "outputs": [
    {
     "data": {
      "text/plain": [
       "'Bitan Roy,Vladimir Juricic'"
      ]
     },
     "execution_count": 133,
     "metadata": {},
     "output_type": "execute_result"
    }
   ],
   "source": [
    "\",\".join(L)"
   ]
  },
  {
   "cell_type": "code",
   "execution_count": null,
   "id": "30a7a03b",
   "metadata": {},
   "outputs": [],
   "source": [
    "    \n",
    "# read log\n",
    "df_log = pd.read_csv('log.csv')\n",
    "    \n",
    "# concat log and df_hit\n",
    "df_out = pd.concat( [ df_hit, df_log ], axis=0 )\n",
    "    \n",
    "# resolve duplications\n",
    "df_out2 = df_out[~df_out.duplicated(subset=['title','authors'])] # タイトルと著者が一致する論文は重複とみなしdrop\n",
    "    "
   ]
  },
  {
   "cell_type": "code",
   "execution_count": null,
   "id": "4e3663a7",
   "metadata": {},
   "outputs": [],
   "source": [
    "\n",
    "    \n",
    "    \n",
    "    \n",
    "    # output\n",
    "    df_out2.to_csv('log.csv', index=False, header=True, mode='w') # 上書きモード, headerあり\n",
    "    # df_out2.to_csv('log.csv', index=False, header=False, mode='a') # 追記モード, headerなし\n",
    "    "
   ]
  }
 ],
 "metadata": {
  "kernelspec": {
   "display_name": "Python 3.9.6 64-bit ('3.9.6')",
   "language": "python",
   "name": "python3"
  },
  "language_info": {
   "codemirror_mode": {
    "name": "ipython",
    "version": 3
   },
   "file_extension": ".py",
   "mimetype": "text/x-python",
   "name": "python",
   "nbconvert_exporter": "python",
   "pygments_lexer": "ipython3",
   "version": "3.9.6"
  },
  "vscode": {
   "interpreter": {
    "hash": "f996e7deb88d5ebfeb27fdb9ae7177e6195975ce4d7249c70e1d57f47111714b"
   }
  }
 },
 "nbformat": 4,
 "nbformat_minor": 5
}
